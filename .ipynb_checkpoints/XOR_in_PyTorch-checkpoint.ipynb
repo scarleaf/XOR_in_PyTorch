{
 "cells": [
  {
   "cell_type": "markdown",
   "metadata": {},
   "source": [
    "# Import Libray"
   ]
  },
  {
   "cell_type": "code",
   "execution_count": 59,
   "metadata": {},
   "outputs": [],
   "source": [
    "import pandas as pd\n",
    "import torch\n",
    "from torch.autograd import Variable\n",
    "import torch.nn as nn\n",
    "import torch.nn.functional as F\n",
    "import torch.optim as optim"
   ]
  },
  {
   "cell_type": "markdown",
   "metadata": {},
   "source": [
    "# Define Network"
   ]
  },
  {
   "cell_type": "code",
   "execution_count": 125,
   "metadata": {},
   "outputs": [],
   "source": [
    "class Net1(nn.Module):\n",
    "    def __init__(self):\n",
    "        super(Net1, self).__init__()\n",
    "        self.fc1 = nn.Linear(2, 1, True)\n",
    "        self.fc2 = nn.Linear(1, 1, True)\n",
    "    \n",
    "    def forward(self, x):\n",
    "        x = F.sigmoid(self.fc1(x))\n",
    "        x = self.fc2(x)\n",
    "        return x\n",
    "\n",
    "class Net2(nn.Module):\n",
    "    def __init__(self):\n",
    "        super(Net2, self).__init__()\n",
    "        self.fc1 = nn.Linear(2, 2, True)\n",
    "        self.fc2 = nn.Linear(2, 1, True)\n",
    "    \n",
    "    def forward(self, x):\n",
    "        x = F.sigmoid(self.fc1(x))\n",
    "        x = self.fc2(x)\n",
    "        return x\n",
    "    \n",
    "class Net3(nn.Module):\n",
    "    def __init__(self):\n",
    "        super(Net3, self).__init__()\n",
    "        self.fc1 = nn.Linear(2, 3, True)\n",
    "        self.fc2 = nn.Linear(3, 1, True)\n",
    "    \n",
    "    def forward(self, x):\n",
    "        x = F.sigmoid(self.fc1(x))\n",
    "        x = self.fc2(x)\n",
    "        return x"
   ]
  },
  {
   "cell_type": "markdown",
   "metadata": {},
   "source": [
    "# Define Input / Output"
   ]
  },
  {
   "cell_type": "code",
   "execution_count": 61,
   "metadata": {},
   "outputs": [],
   "source": [
    "dfData = pd.DataFrame([[0,0,0],[0,1,1],[1,0,1],[1,1,0]], columns=[\"X1\", \"X2\", \"y\"])"
   ]
  },
  {
   "cell_type": "code",
   "execution_count": 62,
   "metadata": {},
   "outputs": [
    {
     "data": {
      "text/html": [
       "<div>\n",
       "<style scoped>\n",
       "    .dataframe tbody tr th:only-of-type {\n",
       "        vertical-align: middle;\n",
       "    }\n",
       "\n",
       "    .dataframe tbody tr th {\n",
       "        vertical-align: top;\n",
       "    }\n",
       "\n",
       "    .dataframe thead th {\n",
       "        text-align: right;\n",
       "    }\n",
       "</style>\n",
       "<table border=\"1\" class=\"dataframe\">\n",
       "  <thead>\n",
       "    <tr style=\"text-align: right;\">\n",
       "      <th></th>\n",
       "      <th>X1</th>\n",
       "      <th>X2</th>\n",
       "      <th>y</th>\n",
       "    </tr>\n",
       "  </thead>\n",
       "  <tbody>\n",
       "    <tr>\n",
       "      <td>0</td>\n",
       "      <td>0</td>\n",
       "      <td>0</td>\n",
       "      <td>0</td>\n",
       "    </tr>\n",
       "    <tr>\n",
       "      <td>1</td>\n",
       "      <td>0</td>\n",
       "      <td>1</td>\n",
       "      <td>1</td>\n",
       "    </tr>\n",
       "    <tr>\n",
       "      <td>2</td>\n",
       "      <td>1</td>\n",
       "      <td>0</td>\n",
       "      <td>1</td>\n",
       "    </tr>\n",
       "    <tr>\n",
       "      <td>3</td>\n",
       "      <td>1</td>\n",
       "      <td>1</td>\n",
       "      <td>0</td>\n",
       "    </tr>\n",
       "  </tbody>\n",
       "</table>\n",
       "</div>"
      ],
      "text/plain": [
       "   X1  X2  y\n",
       "0   0   0  0\n",
       "1   0   1  1\n",
       "2   1   0  1\n",
       "3   1   1  0"
      ]
     },
     "execution_count": 62,
     "metadata": {},
     "output_type": "execute_result"
    }
   ],
   "source": [
    "dfData"
   ]
  },
  {
   "cell_type": "markdown",
   "metadata": {},
   "source": [
    "# Split Input and Output"
   ]
  },
  {
   "cell_type": "code",
   "execution_count": 63,
   "metadata": {},
   "outputs": [],
   "source": [
    "dfInputs = dfData[[\"X1\", \"X2\"]]\n",
    "dfOutput = dfData[\"y\"]"
   ]
  },
  {
   "cell_type": "markdown",
   "metadata": {},
   "source": [
    "# Convert Input/Output to torch.Tensor"
   ]
  },
  {
   "cell_type": "code",
   "execution_count": 112,
   "metadata": {},
   "outputs": [],
   "source": [
    "tsInputs = list(map(lambda x: torch.Tensor([x]), dfInputs.values))\n",
    "tsOutput = list(map(lambda x: torch.Tensor([x]), dfOutput.values))"
   ]
  },
  {
   "cell_type": "markdown",
   "metadata": {},
   "source": [
    "# Training / Test with Net1"
   ]
  },
  {
   "cell_type": "code",
   "execution_count": 126,
   "metadata": {},
   "outputs": [
    {
     "name": "stdout",
     "output_type": "stream",
     "text": [
      "Training loop:\n",
      "Epoch        0 Loss: 0.33617067337036133\n",
      "Epoch     5000 Loss: 0.24850277602672577\n",
      "Epoch    10000 Loss: 0.250346302986145\n",
      "Epoch    15000 Loss: 0.25194844603538513\n",
      "Epoch    20000 Loss: 0.2534267008304596\n",
      "Epoch    25000 Loss: 0.25475525856018066\n",
      "Epoch    30000 Loss: 0.2559097409248352\n",
      "Epoch    35000 Loss: 0.2568656802177429\n",
      "Epoch    40000 Loss: 0.25757837295532227\n",
      "Epoch    45000 Loss: 0.2579517662525177\n",
      "\n",
      "Final results:\n",
      "Input:[0,0] Target:[0] Predicted:[0.5035] Error:[0.5035]\n",
      "Input:[0,1] Target:[1] Predicted:[0.5035] Error:[0.4965]\n",
      "Input:[1,0] Target:[1] Predicted:[0.4966] Error:[0.5034]\n",
      "Input:[1,1] Target:[0] Predicted:[0.4967] Error:[0.4967]\n"
     ]
    }
   ],
   "source": [
    "net = Net1()\n",
    "epochs = 50000\n",
    "learning_rate=0.01\n",
    "criterion = nn.MSELoss()\n",
    "optimizer = optim.SGD(net.parameters(), lr=learning_rate)\n",
    "\n",
    "print(\"Training loop:\")\n",
    "for idx in range(0, epochs):\n",
    "    for input, target in zip(tsInputs, tsOutput):\n",
    "        optimizer.zero_grad()\n",
    "        output = net(input)\n",
    "        loss = criterion(output, target)\n",
    "        loss.backward(retain_graph=True)\n",
    "        optimizer.step()\n",
    "        \n",
    "    if idx % 5000 == 0:\n",
    "        print(\"Epoch {: >8} Loss: {}\".format(idx, loss.data.numpy()))\n",
    "print(\"\")\n",
    "\n",
    "print(\"Final results:\")\n",
    "for input, target in zip(tsInputs, tsOutput):\n",
    "    output = net(input)\n",
    "    print(\"Input:[{},{}] Target:[{}] Predicted:[{}] Error:[{}]\".format(\n",
    "        int(input.data.numpy()[0][0]),\n",
    "        int(input.data.numpy()[0][1]),\n",
    "        int(target.data.numpy()[0]),\n",
    "        round(float(output.data.numpy()[0]), 4),\n",
    "        round(float(abs(target.data.numpy()[0] - output.data.numpy()[0])), 4)\n",
    "    ))"
   ]
  },
  {
   "cell_type": "code",
   "execution_count": 130,
   "metadata": {},
   "outputs": [
    {
     "name": "stdout",
     "output_type": "stream",
     "text": [
      "Training loop:\n",
      "Epoch        0 Loss: 0.13809260725975037\n",
      "Epoch     5000 Loss: 0.24241742491722107\n",
      "Epoch    10000 Loss: 0.14542321860790253\n",
      "Epoch    15000 Loss: 0.12887421250343323\n",
      "Epoch    20000 Loss: 0.12524525821208954\n",
      "Epoch    25000 Loss: 0.12375491112470627\n",
      "Epoch    30000 Loss: 0.12295940518379211\n",
      "Epoch    35000 Loss: 0.12246730923652649\n",
      "Epoch    40000 Loss: 0.12213004380464554\n",
      "Epoch    45000 Loss: 0.12188737094402313\n",
      "Epoch    50000 Loss: 0.12170939147472382\n",
      "Epoch    55000 Loss: 0.12157011032104492\n",
      "Epoch    60000 Loss: 0.12145375460386276\n",
      "Epoch    65000 Loss: 0.12136054784059525\n",
      "Epoch    70000 Loss: 0.12127991020679474\n",
      "Epoch    75000 Loss: 0.12121365964412689\n",
      "Epoch    80000 Loss: 0.12115880101919174\n",
      "Epoch    85000 Loss: 0.12110884487628937\n",
      "Epoch    90000 Loss: 0.12106329947710037\n",
      "Epoch    95000 Loss: 0.12102846056222916\n",
      "\n",
      "Final results:\n",
      "Input:[0,0] Target:[0] Predicted:[0.3357] Error:[0.3357]\n",
      "Input:[0,1] Target:[1] Predicted:[1.0082] Error:[0.0082]\n",
      "Input:[1,0] Target:[1] Predicted:[0.3324] Error:[0.6676]\n",
      "Input:[1,1] Target:[0] Predicted:[0.3339] Error:[0.3339]\n"
     ]
    }
   ],
   "source": [
    "net = Net1()\n",
    "epochs = 100000\n",
    "learning_rate=0.01\n",
    "criterion = nn.MSELoss()\n",
    "optimizer = optim.SGD(net.parameters(), lr=learning_rate)\n",
    "\n",
    "print(\"Training loop:\")\n",
    "for idx in range(0, epochs):\n",
    "    for input, target in zip(tsInputs, tsOutput):\n",
    "        optimizer.zero_grad()\n",
    "        output = net(input)\n",
    "        loss = criterion(output, target)\n",
    "        loss.backward(retain_graph=True)\n",
    "        optimizer.step()\n",
    "        \n",
    "    if idx % 5000 == 0:\n",
    "        print(\"Epoch {: >8} Loss: {}\".format(idx, loss.data.numpy()))\n",
    "print(\"\")\n",
    "\n",
    "print(\"Final results:\")\n",
    "for input, target in zip(tsInputs, tsOutput):\n",
    "    output = net(input)\n",
    "    print(\"Input:[{},{}] Target:[{}] Predicted:[{}] Error:[{}]\".format(\n",
    "        int(input.data.numpy()[0][0]),\n",
    "        int(input.data.numpy()[0][1]),\n",
    "        int(target.data.numpy()[0]),\n",
    "        round(float(output.data.numpy()[0]), 4),\n",
    "        round(float(abs(target.data.numpy()[0] - output.data.numpy()[0])), 4)\n",
    "    ))"
   ]
  },
  {
   "cell_type": "markdown",
   "metadata": {},
   "source": [
    "# Training / Test with Net2"
   ]
  },
  {
   "cell_type": "code",
   "execution_count": 127,
   "metadata": {},
   "outputs": [
    {
     "name": "stdout",
     "output_type": "stream",
     "text": [
      "Training loop:\n",
      "Epoch        0 Loss: 0.16491369903087616\n",
      "Epoch     5000 Loss: 0.2559894025325775\n",
      "Epoch    10000 Loss: 0.2556890845298767\n",
      "Epoch    15000 Loss: 0.262783944606781\n",
      "Epoch    20000 Loss: 0.35462960600852966\n",
      "Epoch    25000 Loss: 3.538658711477183e-05\n",
      "Epoch    30000 Loss: 1.352479017668884e-09\n",
      "Epoch    35000 Loss: 1.352479017668884e-09\n",
      "Epoch    40000 Loss: 1.352479017668884e-09\n",
      "Epoch    45000 Loss: 1.352479017668884e-09\n",
      "\n",
      "Final results:\n",
      "Input:[0,0] Target:[0] Predicted:[0.0] Error:[0.0]\n",
      "Input:[0,1] Target:[1] Predicted:[1.0] Error:[0.0]\n",
      "Input:[1,0] Target:[1] Predicted:[1.0] Error:[0.0]\n",
      "Input:[1,1] Target:[0] Predicted:[0.0] Error:[0.0]\n"
     ]
    }
   ],
   "source": [
    "net = Net2()\n",
    "epochs = 50000\n",
    "learning_rate=0.01\n",
    "criterion = nn.MSELoss()\n",
    "optimizer = optim.SGD(net.parameters(), lr=learning_rate)\n",
    "\n",
    "print(\"Training loop:\")\n",
    "for idx in range(0, epochs):\n",
    "    for input, target in zip(tsInputs, tsOutput):\n",
    "        optimizer.zero_grad()\n",
    "        output = net(input)\n",
    "        loss = criterion(output, target)\n",
    "        loss.backward(retain_graph=True)\n",
    "        optimizer.step()\n",
    "        \n",
    "    if idx % 5000 == 0:\n",
    "        print(\"Epoch {: >8} Loss: {}\".format(idx, loss.data.numpy()))\n",
    "print(\"\")\n",
    "\n",
    "print(\"Final results:\")\n",
    "for input, target in zip(tsInputs, tsOutput):\n",
    "    output = net(input)\n",
    "    print(\"Input:[{},{}] Target:[{}] Predicted:[{}] Error:[{}]\".format(\n",
    "        int(input.data.numpy()[0][0]),\n",
    "        int(input.data.numpy()[0][1]),\n",
    "        int(target.data.numpy()[0]),\n",
    "        round(float(output.data.numpy()[0]), 4),\n",
    "        round(float(abs(target.data.numpy()[0] - output.data.numpy()[0])), 4)\n",
    "    ))"
   ]
  },
  {
   "cell_type": "markdown",
   "metadata": {},
   "source": [
    "# Training / Test with Net3"
   ]
  },
  {
   "cell_type": "code",
   "execution_count": 129,
   "metadata": {},
   "outputs": [
    {
     "name": "stdout",
     "output_type": "stream",
     "text": [
      "Training loop:\n",
      "Epoch        0 Loss: 0.01593931019306183\n",
      "Epoch     5000 Loss: 0.2601189613342285\n",
      "Epoch    10000 Loss: 0.04629085585474968\n",
      "Epoch    15000 Loss: 2.751221472863108e-11\n",
      "Epoch    20000 Loss: 5.1159076974727213e-11\n",
      "Epoch    25000 Loss: 5.1159076974727213e-11\n",
      "Epoch    30000 Loss: 5.1159076974727213e-11\n",
      "Epoch    35000 Loss: 5.1159076974727213e-11\n",
      "Epoch    40000 Loss: 5.1159076974727213e-11\n",
      "Epoch    45000 Loss: 5.1159076974727213e-11\n",
      "\n",
      "Final results:\n",
      "Input:[0,0] Target:[0] Predicted:[0.0] Error:[0.0]\n",
      "Input:[0,1] Target:[1] Predicted:[1.0] Error:[0.0]\n",
      "Input:[1,0] Target:[1] Predicted:[1.0] Error:[0.0]\n",
      "Input:[1,1] Target:[0] Predicted:[0.0] Error:[0.0]\n"
     ]
    }
   ],
   "source": [
    "net = Net3()\n",
    "epochs = 50000\n",
    "learning_rate=0.01\n",
    "criterion = nn.MSELoss()\n",
    "optimizer = optim.SGD(net.parameters(), lr=learning_rate)\n",
    "\n",
    "print(\"Training loop:\")\n",
    "for idx in range(0, epochs):\n",
    "    for input, target in zip(tsInputs, tsOutput):\n",
    "        optimizer.zero_grad()\n",
    "        output = net(input)\n",
    "        loss = criterion(output, target)\n",
    "        loss.backward(retain_graph=True)\n",
    "        optimizer.step()\n",
    "        \n",
    "    if idx % 5000 == 0:\n",
    "        print(\"Epoch {: >8} Loss: {}\".format(idx, loss.data.numpy()))\n",
    "print(\"\")\n",
    "\n",
    "print(\"Final results:\")\n",
    "for input, target in zip(tsInputs, tsOutput):\n",
    "    output = net(input)\n",
    "    print(\"Input:[{},{}] Target:[{}] Predicted:[{}] Error:[{}]\".format(\n",
    "        int(input.data.numpy()[0][0]),\n",
    "        int(input.data.numpy()[0][1]),\n",
    "        int(target.data.numpy()[0]),\n",
    "        round(float(output.data.numpy()[0]), 4),\n",
    "        round(float(abs(target.data.numpy()[0] - output.data.numpy()[0])), 4)\n",
    "    ))"
   ]
  },
  {
   "cell_type": "code",
   "execution_count": null,
   "metadata": {},
   "outputs": [],
   "source": []
  }
 ],
 "metadata": {
  "kernelspec": {
   "display_name": "Python 3",
   "language": "python",
   "name": "python3"
  },
  "language_info": {
   "codemirror_mode": {
    "name": "ipython",
    "version": 3
   },
   "file_extension": ".py",
   "mimetype": "text/x-python",
   "name": "python",
   "nbconvert_exporter": "python",
   "pygments_lexer": "ipython3",
   "version": "3.7.4"
  }
 },
 "nbformat": 4,
 "nbformat_minor": 4
}
